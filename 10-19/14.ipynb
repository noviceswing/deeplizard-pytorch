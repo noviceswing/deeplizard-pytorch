{
 "cells": [
  {
   "attachments": {},
   "cell_type": "markdown",
   "metadata": {},
   "source": [
    "### **学习目标**\n",
    "1. 介绍Fashion-MNIST dataset 数据集\n",
    "2. 数据集的规范和如何构造数据集\n",
    "3. 介绍Fashion-MNIST dataset 与 original-MNIST数据集的不同"
   ]
  },
  {
   "cell_type": "code",
   "execution_count": 1,
   "metadata": {},
   "outputs": [],
   "source": [
    "###### 为什么要学习使用数据集 ######\n",
    "# 数据是深度学习最重要的一部分\n",
    "# \"学会使用数据集可以更好地理解数据，更好地训练模型，并最终获得更好的结果。\n",
    "# 此外，数据集还可以帮助我们更好地管理和组织数据，使代码更加模块化和可重用。\"\n",
    "# 作为神经网络程序员，我们需要让我们的neural network 从我们的数据集中学习。\n",
    "# It's the programmer's job to oversee and guide the learning process though training.\n",
    "# 获取和访问数据其实是深度学习中最困难的一部分"
   ]
  },
  {
   "attachments": {},
   "cell_type": "markdown",
   "metadata": {},
   "source": [
    "**在我们使用数据集时，我们需要关注以下方面**\n",
    "\n",
    "**Data focused considerations:**\n",
    "1. Who created the dataset?\n",
    "2. How was the dataset created?\n",
    "3. What transformations were used?\n",
    "4. What intent does the dataset have?\n",
    "5. Possible unintentional consequences?\n",
    "6. Is the dataset biased?\n",
    "7. Are there ethical issues with the dataset?"
   ]
  },
  {
   "attachments": {},
   "cell_type": "markdown",
   "metadata": {},
   "source": [
    "**学习总结整合**"
   ]
  },
  {
   "cell_type": "code",
   "execution_count": 3,
   "metadata": {},
   "outputs": [],
   "source": [
    "# NIST 的含义是 National Institute of Standards and Technology 国家标准技术局\n",
    "# M 的含义是 modified\n",
    "# 即有一个原始的数据集NIST dataset，经过修改后得到 MNIST dataset\n",
    "\n",
    "# 它经常被使用的两个原因：\n",
    "# 1. Beginners use it because it's easy 易于使用\n",
    "# 2. Researchers use it to benchmark (compare) different models. 大家都在使用，便于对比模型的优劣\n",
    "\n",
    "# MNIST dataset 是一个手写数字的数据集，包含 60,000 张训练图像和 10,000 张测试图像。\n",
    "# 每张图像都是 28x28 像素的灰度图像，表示 0 到 9 中的一个数字。\n",
    "# 该数据集通常用于训练和测试图像分类算法的性能。\n",
    "\n",
    "# 随着图像识别技术的快速发展，识别MNIST过于简单，所以fashion-MNIST 数据集被创建出来了。\n",
    "# fashion-MNIST 数据集是一个图像分类数据集，包含 60,000 张训练图像和 10,000 张测试图像。\n",
    "# 每张图像都是 28x28 像素的灰度图像，表示 10 种不同的服装类别。\n",
    "# 该数据集通常用于训练和测试图像分类算法的性能，特别是在与 MNIST 数据集进行比较时。\n",
    "\n",
    "# 为什么叫fashion-MNIST是因为，创建者想要用fashion-MNIST取代原有MNIST，这也是设计这个数据集的初中\n",
    "\n",
    "# MNIST数据集和fashion-MNIST数据集的图像大小和灰度格式相同，因此在这两个数据集上训练的神经网络可以直接转移到另一个数据集上。\n",
    "# 这意味着，用于训练MNIST数据集的相同神经网络架构和超参数可以应用于fashion-MNIST数据集，而无需进行任何修改。\n",
    "\n",
    "# pytorch中提供了一个库，torchvision用于加载数据集\n",
    "\n",
    "# torchvision库是PyTorch中专门用于处理图像的库，其中包含了很多经典的数据集，如MNIST、CIFAR10、CIFAR100、ImageNet等。\n",
    "# 除了数据集之外，torchvision还提供了很多图像处理的工具，如对图像进行变换、对图像进行裁剪、对图像进行缩放等等。\n",
    "# 可以通过torchvision.datasets来加载数据集，通过torchvision.transforms来对图像进行变换和处理。\n",
    "\n",
    "\n",
    "# fashion-MNIST dataset的数据是怎么得到的\n",
    "# 1. Converted to PNG\n",
    "# 2. Trimmed\n",
    "# 3. Resized\n",
    "# 4. Sharpened\n",
    "# 5. Extended\n",
    "# 6. Negated\n",
    "# 7. Gray-scaled"
   ]
  }
 ],
 "metadata": {
  "kernelspec": {
   "display_name": "d2l",
   "language": "python",
   "name": "python3"
  },
  "language_info": {
   "codemirror_mode": {
    "name": "ipython",
    "version": 3
   },
   "file_extension": ".py",
   "mimetype": "text/x-python",
   "name": "python",
   "nbconvert_exporter": "python",
   "pygments_lexer": "ipython3",
   "version": "3.9.16"
  },
  "orig_nbformat": 4
 },
 "nbformat": 4,
 "nbformat_minor": 2
}
