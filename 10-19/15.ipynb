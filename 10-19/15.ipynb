{
 "cells": [
  {
   "attachments": {},
   "cell_type": "markdown",
   "metadata": {},
   "source": [
    "### **学习目标**\n",
    "1. 使用pytorch中的torchvision库完成一段数据集提取，转换和加载的流程"
   ]
  },
  {
   "cell_type": "code",
   "execution_count": 1,
   "metadata": {},
   "outputs": [],
   "source": [
    "# torchvision是pytorch中的计算机视觉库\n",
    "\n",
    "# 总体分为4个步骤\n",
    "#     1. 准备数据\n",
    "#     2. 建立模型\n",
    "#     3. 训练模型\n",
    "#     4. 分析结果"
   ]
  },
  {
   "attachments": {},
   "cell_type": "markdown",
   "metadata": {},
   "source": [
    "1.1 引入包，以及相关知识"
   ]
  },
  {
   "cell_type": "code",
   "execution_count": 2,
   "metadata": {},
   "outputs": [],
   "source": [
    "# 大概了解一下 ETL 的过程(Extract， Transform， Load)\n",
    "# Extract data from a data source.\n",
    "# Transform data into a desirable format.\n",
    "# Load data into a suitable structure.\n",
    "# 当我们完成了 ETL 的过程，我们就准备好了开始建立和训练我们的深度学习模型"
   ]
  },
  {
   "cell_type": "code",
   "execution_count": 4,
   "metadata": {},
   "outputs": [],
   "source": [
    "import torch # # 顶层包和张量库\n",
    "# 顶层包的意义在于提供对整个库的访问，使得用户可以方便地使用库中的所有模块和函数\n",
    "# 顶层包的引入也可以使代码更加简洁，因为可以使用更短的名称来引用库中的模块和函数\n",
    "\n",
    "# import the torchvision library\n",
    "import torchvision # 是pytorch中的一个库，但也是单独安装的\n",
    "\n",
    "# import the transforms module from torchvision\n",
    "import torchvision.transforms as transforms # 提供图片处理中通用转换\n"
   ]
  },
  {
   "cell_type": "code",
   "execution_count": 5,
   "metadata": {},
   "outputs": [],
   "source": [
    "# 在当前的任务中的 ETL\n",
    "# Extract – Get the Fashion-MNIST image data from the source.\n",
    "# Transform – Put our data into tensor form.\n",
    "# Load – Put our data into an object to make it easily accessible.\n",
    "\n",
    "# 为了完成上述任务，pytorch提供了两个类便于我们进行处理\n",
    "# 1. torch.utils.data.Dataset\n",
    "# 2. torch.utils.data.DataLoader\n"
   ]
  },
  {
   "cell_type": "code",
   "execution_count": 6,
   "metadata": {},
   "outputs": [],
   "source": [
    "# Dataset 表示数据集的抽象类\n",
    "# 使用数据集的抽象类可以使我们更容易地处理数据集，因为它提供了一些有用的功能，如数据集的划分和批处理等。\n",
    "# 此外，它还可以帮助我们更好地组织代码，使其更易于维护和重用。\n",
    "# 有两个方法是重要的\n",
    "# 1. __len__ 返回数据集的长度\n",
    "# 2. __getitem__ 从特定的索引位置获取一个元素\n",
    "# 简单的示例\n",
    "\n",
    "import torch.utils.data as data\n",
    "\n",
    "class OHIC(data.Dataset):\n",
    "    def __init__(self, data):\n",
    "        self.data = data\n",
    "        \n",
    "    def __len__(self):\n",
    "        return len(self.data)\n",
    "    \n",
    "    def __getitem__(self, index):\n",
    "        return self.data[index]"
   ]
  },
  {
   "cell_type": "code",
   "execution_count": 7,
   "metadata": {},
   "outputs": [],
   "source": [
    "# DataLoader 是一个用于批量加载数据的迭代器\n",
    "# 封装数据集并提供对底层数据的访问。\n",
    "# 它可以从给定的数据集中自动批量加载数据，并将其组合成一个张量。\n",
    "# DataLoader还提供了一些有用的功能，如数据集的随机抽样和多线程数据加载等"
   ]
  },
  {
   "cell_type": "code",
   "execution_count": 9,
   "metadata": {},
   "outputs": [],
   "source": [
    "# torchvision 包含以下四部分\n",
    "# 1. Datasets ** 重要\n",
    "# 2. Models ** 重要\n",
    "\n",
    "# 3. Transforms\n",
    "# 4. Utils\n",
    "\n",
    "# 在 torchvison 中是直接拓展了数据集\n",
    "# 获取 MNIST 和 fashion-MNIST 数据集的不同之处仅仅在于 URL 不同"
   ]
  },
  {
   "attachments": {},
   "cell_type": "markdown",
   "metadata": {},
   "source": [
    "1.2  使用 torchvision 提取转换 fashion-mnist 数据集的实例"
   ]
  },
  {
   "cell_type": "code",
   "execution_count": 10,
   "metadata": {},
   "outputs": [
    {
     "name": "stdout",
     "output_type": "stream",
     "text": [
      "Downloading http://fashion-mnist.s3-website.eu-central-1.amazonaws.com/train-images-idx3-ubyte.gz\n",
      "Downloading http://fashion-mnist.s3-website.eu-central-1.amazonaws.com/train-images-idx3-ubyte.gz to ./data/FashionMNIST\\FashionMNIST\\raw\\train-images-idx3-ubyte.gz\n"
     ]
    },
    {
     "name": "stderr",
     "output_type": "stream",
     "text": [
      "100.0%\n"
     ]
    },
    {
     "name": "stdout",
     "output_type": "stream",
     "text": [
      "Extracting ./data/FashionMNIST\\FashionMNIST\\raw\\train-images-idx3-ubyte.gz to ./data/FashionMNIST\\FashionMNIST\\raw\n",
      "\n",
      "Downloading http://fashion-mnist.s3-website.eu-central-1.amazonaws.com/train-labels-idx1-ubyte.gz\n",
      "Downloading http://fashion-mnist.s3-website.eu-central-1.amazonaws.com/train-labels-idx1-ubyte.gz to ./data/FashionMNIST\\FashionMNIST\\raw\\train-labels-idx1-ubyte.gz\n"
     ]
    },
    {
     "name": "stderr",
     "output_type": "stream",
     "text": [
      "100.0%\n"
     ]
    },
    {
     "name": "stdout",
     "output_type": "stream",
     "text": [
      "Extracting ./data/FashionMNIST\\FashionMNIST\\raw\\train-labels-idx1-ubyte.gz to ./data/FashionMNIST\\FashionMNIST\\raw\n",
      "\n",
      "Downloading http://fashion-mnist.s3-website.eu-central-1.amazonaws.com/t10k-images-idx3-ubyte.gz\n",
      "Downloading http://fashion-mnist.s3-website.eu-central-1.amazonaws.com/t10k-images-idx3-ubyte.gz to ./data/FashionMNIST\\FashionMNIST\\raw\\t10k-images-idx3-ubyte.gz\n"
     ]
    },
    {
     "name": "stderr",
     "output_type": "stream",
     "text": [
      "100.0%\n"
     ]
    },
    {
     "name": "stdout",
     "output_type": "stream",
     "text": [
      "Extracting ./data/FashionMNIST\\FashionMNIST\\raw\\t10k-images-idx3-ubyte.gz to ./data/FashionMNIST\\FashionMNIST\\raw\n",
      "\n",
      "Downloading http://fashion-mnist.s3-website.eu-central-1.amazonaws.com/t10k-labels-idx1-ubyte.gz\n",
      "Downloading http://fashion-mnist.s3-website.eu-central-1.amazonaws.com/t10k-labels-idx1-ubyte.gz to ./data/FashionMNIST\\FashionMNIST\\raw\\t10k-labels-idx1-ubyte.gz\n"
     ]
    },
    {
     "name": "stderr",
     "output_type": "stream",
     "text": [
      "100.0%"
     ]
    },
    {
     "name": "stdout",
     "output_type": "stream",
     "text": [
      "Extracting ./data/FashionMNIST\\FashionMNIST\\raw\\t10k-labels-idx1-ubyte.gz to ./data/FashionMNIST\\FashionMNIST\\raw\n",
      "\n"
     ]
    },
    {
     "name": "stderr",
     "output_type": "stream",
     "text": [
      "\n"
     ]
    }
   ],
   "source": [
    "train_set = torchvision.datasets.FashionMNIST(\n",
    "    root='./data/FashionMNIST'                  # 数据集存放路径 \n",
    "    ,train=True                                 # 是否为训练集\n",
    "    ,download=True                              # 如果没有在数据集存放路径出现就进行下载\n",
    "    ,transform=transforms.Compose([             # Compose 组成，在()里面传递一个转换的组合\n",
    "        transforms.ToTensor()                   # 将图像转换为张量，用内置的ToTensor()进行转换\n",
    "    ])\n",
    ")\n",
    "# 第一次需要进行下载操作"
   ]
  },
  {
   "attachments": {},
   "cell_type": "markdown",
   "metadata": {},
   "source": [
    "1.3 使用 Dataloader数据加载器加载数据"
   ]
  },
  {
   "cell_type": "code",
   "execution_count": 11,
   "metadata": {},
   "outputs": [],
   "source": [
    "train_loader = torch.utils.data.DataLoader(train_set\n",
    "    ,batch_size = 1000\n",
    "    ,shuffle = True     # shuffle参数的作用是打乱数据集中的样本顺序，以便模型不会受到数据顺序的影响。\n",
    "    ,num_workers = 2    # num_workers参数指定了使用的线程数，这里设置为2，表示使用4个线程来处理数据。\n",
    ")\n",
    "# 使用数据加载器处理一些功能，批处理，线程管理和shuffle。\n",
    "# 线程管理是指在处理数据时，使用多个线程来加速数据处理的过程。在数据处理过程中，线程管理可以帮助我们更快地加载和处理数据，从而提高模型的训练速度和效率。"
   ]
  }
 ],
 "metadata": {
  "kernelspec": {
   "display_name": "d2l",
   "language": "python",
   "name": "python3"
  },
  "language_info": {
   "codemirror_mode": {
    "name": "ipython",
    "version": 3
   },
   "file_extension": ".py",
   "mimetype": "text/x-python",
   "name": "python",
   "nbconvert_exporter": "python",
   "pygments_lexer": "ipython3",
   "version": "3.9.16"
  },
  "orig_nbformat": 4
 },
 "nbformat": 4,
 "nbformat_minor": 2
}
