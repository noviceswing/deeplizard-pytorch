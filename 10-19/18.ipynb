{
 "cells": [
  {
   "attachments": {},
   "cell_type": "markdown",
   "metadata": {},
   "source": [
    "### **学习目标**\n",
    "1. 了解 CNN 的参数"
   ]
  },
  {
   "cell_type": "code",
   "execution_count": 2,
   "metadata": {},
   "outputs": [],
   "source": [
    "import torch.nn as nn\n",
    "\n",
    "class Network(nn.Module):\n",
    "    def __init__(self):\n",
    "        super().__init__()\n",
    "        self.conv1 = nn.Conv2d(in_channels=1, out_channels=6, kernel_size=5)\n",
    "        self.conv2 = nn.Conv2d(in_channels=6, out_channels=12, kernel_size=5)\n",
    "        # conv 是 convolutional的缩写\n",
    "                \n",
    "        self.fc1 = nn.Linear(in_features=12 * 4 * 4, out_features=120)\n",
    "        self.fc2 = nn.Linear(in_features=120, out_features=60)\n",
    "        # fc 是 fully connected layers 的缩写\n",
    "\n",
    "        # 定义了5个层为网络中的属性\n",
    "\n",
    "        self.out = nn.Linear(in_features=60, out_features=10)\n",
    "        # 这里是最后一个层，为输出层\n",
    "        \n",
    "\n",
    "    def forward(self, t):\n",
    "        # implement the forward pass\n",
    "        return t\n",
    "\n",
    "# 我们的每个层都是拓展的 nn.module 类\n",
    "# For each layer, there are two primary items encapsulated inside,(encapsulated 译 封装)\n",
    "# a forward function definition and a weight tensor.\n",
    "\n",
    "# All we have to do to take advantage of this functionality is assign our layers as attributes inside our network module, \n",
    "# and the Module base class will see this and register the weights as learnable parameters of our network."
   ]
  },
  {
   "cell_type": "code",
   "execution_count": 1,
   "metadata": {},
   "outputs": [],
   "source": [
    "# In our network's case, the names are the parameters \n",
    "# and the values that we have specified are the arguments.\n",
    "# ？？？？\n",
    "# 两种 parameters:\n",
    "# Hyperparameters\n",
    "# Data dependent hyperparameters"
   ]
  },
  {
   "cell_type": "code",
   "execution_count": null,
   "metadata": {},
   "outputs": [],
   "source": [
    "# 在 CNN 中，有三个需要手动选择的参数\n",
    "# kernel_size\n",
    "# out_channels\n",
    "# out_features\n",
    "# we usually test and tune these parameters to find values that work best.\n"
   ]
  }
 ],
 "metadata": {
  "kernelspec": {
   "display_name": "d2l",
   "language": "python",
   "name": "python3"
  },
  "language_info": {
   "codemirror_mode": {
    "name": "ipython",
    "version": 3
   },
   "file_extension": ".py",
   "mimetype": "text/x-python",
   "name": "python",
   "nbconvert_exporter": "python",
   "pygments_lexer": "ipython3",
   "version": "3.9.16"
  },
  "orig_nbformat": 4
 },
 "nbformat": 4,
 "nbformat_minor": 2
}
