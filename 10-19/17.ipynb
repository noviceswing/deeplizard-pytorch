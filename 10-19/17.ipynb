{
 "cells": [
  {
   "attachments": {},
   "cell_type": "markdown",
   "metadata": {},
   "source": [
    "### **学习目标**\n",
    "1. 使用 pytorch 建立我们的第一个 CNN 模型"
   ]
  },
  {
   "cell_type": "code",
   "execution_count": 2,
   "metadata": {},
   "outputs": [],
   "source": [
    "# 再此之前我们准备好了我们的数据，现在我们应该是 Build the model\n",
    "# 我们所说的 网络 和 模型 是指的同一个东西\n",
    "# 最终目的是输入 图片 并且输出其正确的 类别"
   ]
  },
  {
   "cell_type": "code",
   "execution_count": 3,
   "metadata": {},
   "outputs": [],
   "source": [
    "# 为了建立模型，我们使用到 torch.nn.Module \n",
    "\n",
    "# 我们需要使用面向对象编程(Object-Oriented Programming) OOP\n",
    "# 在我们编程时，我们需要编写的是 code 和 data (下面示例)\n",
    "\n",
    "# 面向对象编程技术简介\n",
    "# 示例代码：\n",
    "\n",
    "class Lizard: #class declaration\n",
    "    def __init__(self, name): #class constructor (code)\n",
    "    #   构造函数 __init__() 用于定义自身属性，生来就有，实例化的同时__init__()自动执行\n",
    "    #   所谓实例化：我们定义了蜥蜴这个类，大自然中有很多蜥蜴，其中具体的一只就是实例\n",
    "    #   例： 一只名为pepsi的蜥蜴    pepsi = Lizard()    即进行了实例化\n",
    "    #   参数 self: 使得我们能够设定类的属性(当我们调用函数时，不必传入self 参数，python会自动执行)\n",
    "\n",
    "        self.name = name #attribute (data)\n",
    "\n",
    "    def set_name(self, name): #method declaration (code)\n",
    "    #   创建不同的方法\n",
    "    #   这里的方法是我们可以改变最开始传入的名字, 即__init__(self, name)中的name\n",
    "        self.name = name #method implementation (code)\n",
    "\n",
    "# 简单的说，蜥蜴(Lizard)是一种物体(Object)\n",
    "# class Lizard: 即声明了名字为 Lizard 的一类(class)\n",
    "# 在一类(class)中我们关注它们自身的属性(attribute)和他们的行为(method)"
   ]
  },
  {
   "cell_type": "code",
   "execution_count": 4,
   "metadata": {},
   "outputs": [
    {
     "name": "stdout",
     "output_type": "stream",
     "text": [
      "pepsi\n",
      "pepsi2\n"
     ]
    }
   ],
   "source": [
    "pepsi = Lizard(name='pepsi')\n",
    "# 创建实例，并且传入必要参数name\n",
    "\n",
    "print(pepsi.name)\n",
    "\n",
    "# \n",
    "pepsi.set_name('pepsi2')\n",
    "print(pepsi.name)"
   ]
  },
  {
   "attachments": {},
   "cell_type": "markdown",
   "metadata": {},
   "source": [
    "**建立神经网络我们需要用到 torch.nn 库**"
   ]
  },
  {
   "cell_type": "code",
   "execution_count": 5,
   "metadata": {},
   "outputs": [],
   "source": [
    "import torch.nn as nn\n",
    "# 神经网络中最主要的就是构建层(layer)\n",
    "# pytorch 库提供了类来帮助我们构建层(layer)\n",
    "# 每个 layer 主要包含两种主要的东西:\n",
    "# 1. A transformation (code)\n",
    "# 2. A collection of weights (data)\n",
    "\n",
    "\n",
    "# PyTorch使用面向对象编程(OOP)的方式来构建神经网络，\n",
    "# 这是因为OOP可以更好地组织和管理代码，使其更易于维护和扩展。\n",
    "# 在torch.nn中，每个层都是一个类，它封装了该层的转换代码和权重数据。\n",
    "# 这种封装使得我们可以轻松地创建、配置和修改神经网络的层，而无需手动管理每个层的权重和转换代码。\n",
    "\n",
    "# 因为 layers 和 neural networks 都位于 nn.Module 类 \n",
    "# 这意味着在PyTorch中构建新层或神经网络时，我们必须扩展nn.Module类。"
   ]
  },
  {
   "attachments": {},
   "cell_type": "markdown",
   "metadata": {},
   "source": [
    "**nn.Modules 中的 forward() 方法**"
   ]
  },
  {
   "cell_type": "code",
   "execution_count": 6,
   "metadata": {},
   "outputs": [],
   "source": [
    "# forward()方法是用来定义模型的前向传播过程的，\n",
    "# 即输入数据经过模型后得到输出结果的过程。\n",
    "# every PyTorch nn.Module has a forward() method\n",
    "# 在nn.Module的子类中，我们需要重写forward()方法来定义模型的结构和计算过程。"
   ]
  },
  {
   "attachments": {},
   "cell_type": "markdown",
   "metadata": {},
   "source": [
    "**nn.functional也提供了许多神经网络的运算**"
   ]
  },
  {
   "cell_type": "code",
   "execution_count": 7,
   "metadata": {},
   "outputs": [],
   "source": [
    "# 实际上，许多nn.Module层类使用nn.functional函数执行它们的操作。\n",
    "# nn.functional提供了一些常用的函数，如ReLU、sigmoid等，\n",
    "# 这些函数可以在forward()方法中使用。\n",
    "# 因此，nn.functional与forward()方法是密切相关的，通常在forward()方法中使用nn.functional来执行操作。"
   ]
  },
  {
   "attachments": {},
   "cell_type": "markdown",
   "metadata": {},
   "source": [
    "**正式开始构建神经网络**"
   ]
  },
  {
   "cell_type": "code",
   "execution_count": 8,
   "metadata": {},
   "outputs": [],
   "source": [
    "# 主要有三个步骤\n",
    "# 1. 在PyTorch中构建新层或神经网络时，扩展nn.Module类\n",
    "\n",
    "class Network:\n",
    "    def __init__(self):\n",
    "        self.layer = None\n",
    "\n",
    "    def forward(self, t):   # 输入了tensor t \n",
    "        t = self.layer(t)   # 经过了layer()   \n",
    "        return t            # 新的tensor t\n",
    "\n",
    "# 但是上面的代码并未对 nn.Module 类进行拓展\n",
    "\n",
    "class Network(nn.Module):   # 继承父类nn.Module\n",
    "    def __init__(self):\n",
    "        super().__init__()  # 用于调用父类方法，\n",
    "                            # super().__init__()可以使用父类的所有方法\n",
    "        self.layer = None\n",
    "\n",
    "    def forward(self, t):\n",
    "        t = self.layer(t)\n",
    "        return t\n",
    "\n",
    "# 现在我们拥有了一个 Network 类并且继承了 nn.Module 类 \n"
   ]
  },
  {
   "cell_type": "code",
   "execution_count": 9,
   "metadata": {},
   "outputs": [],
   "source": [
    "# 2. 将层定义为类属性\n",
    "# 我们正在构造一个 CNN 模型所以我们需要用到 linear 层和 convolutional 层\n",
    "# Convolutional Neural Network（卷积神经网络，简称CNN）是一种前馈神经网络，\n",
    "# 它的人工神经元可以响应一部分覆盖范围内的周围单元，对于大型图像处理有出色表现。CNN在图像和语音识别方面取得了巨大成功。\n",
    "\n",
    "# Linear 层是全连接层，每个输入单元都连接到输出单元，输出大小由参数定义\n",
    "# Convolutional 层是卷积层，它通过在输入上滑动卷积核来提取特征，输出大小由参数定义\n",
    "\n",
    "class Network(nn.Module):\n",
    "    def __init__(self):\n",
    "        super().__init__()\n",
    "        self.conv1 = nn.Conv2d(in_channels=1, out_channels=6, kernel_size=5)\n",
    "        self.conv2 = nn.Conv2d(in_channels=6, out_channels=12, kernel_size=5)\n",
    "        # conv 是 convolutional的缩写\n",
    "                \n",
    "        self.fc1 = nn.Linear(in_features=12 * 4 * 4, out_features=120)\n",
    "        self.fc2 = nn.Linear(in_features=120, out_features=60)\n",
    "        # fc 是 fully connected layers 的缩写\n",
    "\n",
    "        # 定义了5个层为网络中的属性\n",
    "\n",
    "        self.out = nn.Linear(in_features=60, out_features=10)\n",
    "        # 这里是最后一个层，为输出层\n",
    "        \n",
    "\n",
    "    def forward(self, t):\n",
    "        # implement the forward pass\n",
    "        return t\n",
    "\n",
    "# 3. 使用forward()方法\n",
    "class Network(nn.Module):   # 继承父类nn.Module\n",
    "    def __init__(self):\n",
    "        super().__init__()  # 用于调用父类方法，\n",
    "                            # super().__init__()可以使用父类的所有方法\n",
    "        self.layer = None\n",
    "\n",
    "    def forward(self, t):\n",
    "        t = self.layer(t)\n",
    "        return t\n"
   ]
  }
 ],
 "metadata": {
  "kernelspec": {
   "display_name": "d2l",
   "language": "python",
   "name": "python3"
  },
  "language_info": {
   "codemirror_mode": {
    "name": "ipython",
    "version": 3
   },
   "file_extension": ".py",
   "mimetype": "text/x-python",
   "name": "python",
   "nbconvert_exporter": "python",
   "pygments_lexer": "ipython3",
   "version": "3.9.16"
  },
  "orig_nbformat": 4
 },
 "nbformat": 4,
 "nbformat_minor": 2
}
