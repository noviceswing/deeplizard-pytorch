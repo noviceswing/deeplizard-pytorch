{
 "cells": [
  {
   "attachments": {},
   "cell_type": "markdown",
   "metadata": {},
   "source": [
    "### **学习目标**\n",
    "1. 使用 pytorch 建立我们的第一个 CNN 模型"
   ]
  },
  {
   "cell_type": "code",
   "execution_count": 1,
   "metadata": {},
   "outputs": [],
   "source": [
    "# 再此之前我们准备好了我们的数据，现在我们应该是 Build the model\n",
    "# 我们所说的 网络 和 模型 是指的同一个东西\n",
    "# 最终目的是输入 图片 并且输出其正确的 类别"
   ]
  },
  {
   "cell_type": "code",
   "execution_count": 4,
   "metadata": {},
   "outputs": [],
   "source": [
    "# 为了建立模型，我们使用到 torch.nn.Module \n",
    "\n",
    "# 我们需要使用面向对象编程(Object-Oriented Programming) OOP\n",
    "# 在我们编程时，我们需要编写的是 code 和 data (下面示例)\n",
    "\n",
    "# 面向对象编程技术简介\n",
    "# 示例代码：\n",
    "\n",
    "class Lizard: #class declaration\n",
    "    def __init__(self, name): #class constructor (code)\n",
    "    #   构造函数 __init__() 用于定义自身属性，生来就有，实例化的同时__init__()自动执行\n",
    "    #   所谓实例化：我们定义了蜥蜴这个类，大自然中有很多蜥蜴，其中具体的一只就是实例\n",
    "    #   例： 一只名为pepsi的蜥蜴    pepsi = Lizard()    即进行了实例化\n",
    "    #   参数 self: 使得我们能够设定类的属性(当我们调用函数时，不必传入self 参数，python会自动执行)\n",
    "\n",
    "        self.name = name #attribute (data)\n",
    "\n",
    "    def set_name(self, name): #method declaration (code)\n",
    "    #   创建不同的方法\n",
    "    #   这里的方法是我们可以改变最开始传入的名字, 即__init__(self, name)中的name\n",
    "        self.name = name #method implementation (code)\n",
    "\n",
    "# 简单的说，蜥蜴(Lizard)是一种物体(Object)\n",
    "# class Lizard: 即声明了名字为 Lizard 的一类(class)\n",
    "# 在一类(class)中我们关注它们自身的属性(attribute)和他们的行为(method)"
   ]
  },
  {
   "cell_type": "code",
   "execution_count": 8,
   "metadata": {},
   "outputs": [
    {
     "name": "stdout",
     "output_type": "stream",
     "text": [
      "pepsi\n",
      "pepsi2\n"
     ]
    }
   ],
   "source": [
    "pepsi = Lizard(name='pepsi')\n",
    "# 创建实例，并且传入必要参数name\n",
    "\n",
    "print(pepsi.name)\n",
    "\n",
    "# \n",
    "pepsi.set_name('pepsi2')\n",
    "print(pepsi.name)"
   ]
  },
  {
   "attachments": {},
   "cell_type": "markdown",
   "metadata": {},
   "source": [
    "**建立神经网络我们需要用到 torch.nn 库**"
   ]
  },
  {
   "cell_type": "code",
   "execution_count": 1,
   "metadata": {},
   "outputs": [],
   "source": [
    "import torch.nn as nn\n",
    "# 神经网络中最主要的就是构建层(layer)\n",
    "# pytorch 库提供了类来帮助我们构建层(layer)\n",
    "# 每个 layer 主要包含两种主要的东西:\n",
    "# 1. A transformation (code)\n",
    "# 2. A collection of weights (data)\n",
    "\n",
    "\n",
    "# PyTorch使用面向对象编程(OOP)的方式来构建神经网络，\n",
    "# 这是因为OOP可以更好地组织和管理代码，使其更易于维护和扩展。\n",
    "# 在torch.nn中，每个层都是一个类，它封装了该层的转换代码和权重数据。\n",
    "# 这种封装使得我们可以轻松地创建、配置和修改神经网络的层，而无需手动管理每个层的权重和转换代码。\n",
    "\n",
    "# 因为 layers 和 neural networks 都位于 nn.Module 类 \n",
    "# 这意味着在PyTorch中构建新层或神经网络时，我们必须扩展nn.Module类。"
   ]
  },
  {
   "attachments": {},
   "cell_type": "markdown",
   "metadata": {},
   "source": [
    "**nn.Modules 中的 forward() 方法**"
   ]
  },
  {
   "cell_type": "code",
   "execution_count": null,
   "metadata": {},
   "outputs": [],
   "source": [
    "class Net(nn.Module):\n",
    "    def __init__(self):\n",
    "        super(Net, self).__init__()\n",
    "        self.conv1 = nn.Conv2d(1, 6, 3)\n",
    "        self.pool = nn.MaxPool2d(2, 2)\n",
    "        self.conv2 = nn.Conv2d(6, 16, 3)\n",
    "        self.fc1 = nn.Linear(16 * 6 * 6, 120)\n",
    "        self.fc2 = nn.Linear(120, 84)\n",
    "        self.fc3 = nn.Linear(84, 10)\n",
    "\n",
    "    def forward(self, x):\n",
    "        x = self.pool(F.relu(self.conv1(x)))\n",
    "        x = self.pool(F.relu(self.conv2(x)))\n",
    "        x = x.view(-1, 16 * 6 * 6)\n",
    "        x = F.relu(self.fc1(x))\n",
    "        x = F.relu(self.fc2(x))\n",
    "        x = self.fc3(x)\n",
    "        return x"
   ]
  },
  {
   "cell_type": "markdown",
   "metadata": {},
   "source": []
  }
 ],
 "metadata": {
  "kernelspec": {
   "display_name": "d2l",
   "language": "python",
   "name": "python3"
  },
  "language_info": {
   "codemirror_mode": {
    "name": "ipython",
    "version": 3
   },
   "file_extension": ".py",
   "mimetype": "text/x-python",
   "name": "python",
   "nbconvert_exporter": "python",
   "pygments_lexer": "ipython3",
   "version": "3.9.16"
  },
  "orig_nbformat": 4
 },
 "nbformat": 4,
 "nbformat_minor": 2
}
