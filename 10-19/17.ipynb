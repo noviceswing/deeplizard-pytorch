{
 "cells": [
  {
   "attachments": {},
   "cell_type": "markdown",
   "metadata": {},
   "source": [
    "### **学习目标**\n",
    "1. 使用 pytorch 建立我们的第一个 CNN 模型"
   ]
  },
  {
   "cell_type": "code",
   "execution_count": 1,
   "metadata": {},
   "outputs": [],
   "source": [
    "# 再此之前我们准备好了我们的数据，现在我们应该是 Build the model\n",
    "# 我们所说的 网络 和 模型 是指的同一个东西\n",
    "# 最终目的是输入 图片 并且输出其正确的 类别"
   ]
  },
  {
   "cell_type": "code",
   "execution_count": 4,
   "metadata": {},
   "outputs": [],
   "source": [
    "# 为了建立模型，我们使用到 torch.nn.Module \n",
    "# 我们需要使用面向对象编程(Object-Oriented Programming) OOP\n",
    "# 在我们编程时，我们需要编写的是 code 和 data (下面示例)\n",
    "\n",
    "# 面向对象编程技术简介\n",
    "# 示例代码：\n",
    "\n",
    "class Lizard: #class declaration\n",
    "    def __init__(self, name): #class constructor (code)\n",
    "    #   构造函数 __init__() 用于定义自身属性，生来就有，实例化的同时__init__()自动执行\n",
    "    #   所谓实例化：我们定义了蜥蜴这个类，大自然中有很多蜥蜴，其中具体的一只就是实例\n",
    "    #   例： 一只名为pepsi的蜥蜴    pepsi = Lizard()    即进行了实例化\n",
    "    #   参数 self: 使得我们能够设定类的属性(当我们调用函数时，不必传入self 参数，python会自动执行)\n",
    "\n",
    "        self.name = name #attribute (data)\n",
    "\n",
    "    def set_name(self, name): #method declaration (code)\n",
    "    #   创建不同的方法\n",
    "    #   这里的方法是我们可以改变最开始传入的名字, 即__init__(self, name)中的name\n",
    "        self.name = name #method implementation (code)\n",
    "\n",
    "# 简单的说，蜥蜴(Lizard)是一种物体(Object)\n",
    "# class Lizard: 即声明了名字为 Lizard 的一类(class)\n",
    "# 在一类(class)中我们关注它们自身的属性(attribute)和他们的行为(method)"
   ]
  },
  {
   "cell_type": "code",
   "execution_count": 8,
   "metadata": {},
   "outputs": [
    {
     "name": "stdout",
     "output_type": "stream",
     "text": [
      "pepsi\n",
      "pepsi2\n"
     ]
    }
   ],
   "source": [
    "pepsi = Lizard(name='pepsi')\n",
    "# 创建实例，并且传入必要参数name\n",
    "\n",
    "print(pepsi.name)\n",
    "\n",
    "# \n",
    "pepsi.set_name('pepsi2')\n",
    "print(pepsi.name)"
   ]
  },
  {
   "cell_type": "code",
   "execution_count": null,
   "metadata": {},
   "outputs": [],
   "source": []
  }
 ],
 "metadata": {
  "kernelspec": {
   "display_name": "d2l",
   "language": "python",
   "name": "python3"
  },
  "language_info": {
   "codemirror_mode": {
    "name": "ipython",
    "version": 3
   },
   "file_extension": ".py",
   "mimetype": "text/x-python",
   "name": "python",
   "nbconvert_exporter": "python",
   "pygments_lexer": "ipython3",
   "version": "3.9.16"
  },
  "orig_nbformat": 4
 },
 "nbformat": 4,
 "nbformat_minor": 2
}
